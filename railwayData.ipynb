{
  "nbformat": 4,
  "nbformat_minor": 0,
  "metadata": {
    "colab": {
      "provenance": [],
      "collapsed_sections": []
    },
    "kernelspec": {
      "name": "python3",
      "display_name": "Python 3"
    },
    "language_info": {
      "name": "python"
    }
  },
  "cells": [
    {
      "cell_type": "code",
      "execution_count": null,
      "metadata": {
        "colab": {
          "base_uri": "https://localhost:8080/"
        },
        "id": "oymo8uyG_YDQ",
        "outputId": "bdd582a2-b14b-4e2d-aca1-6d886d4f16e2"
      },
      "outputs": [
        {
          "output_type": "stream",
          "name": "stdout",
          "text": [
            "Looking in indexes: https://pypi.org/simple, https://us-python.pkg.dev/colab-wheels/public/simple/\n",
            "Requirement already satisfied: requests in /usr/local/lib/python3.7/dist-packages (2.23.0)\n",
            "Requirement already satisfied: chardet<4,>=3.0.2 in /usr/local/lib/python3.7/dist-packages (from requests) (3.0.4)\n",
            "Requirement already satisfied: certifi>=2017.4.17 in /usr/local/lib/python3.7/dist-packages (from requests) (2022.6.15)\n",
            "Requirement already satisfied: urllib3!=1.25.0,!=1.25.1,<1.26,>=1.21.1 in /usr/local/lib/python3.7/dist-packages (from requests) (1.24.3)\n",
            "Requirement already satisfied: idna<3,>=2.5 in /usr/local/lib/python3.7/dist-packages (from requests) (2.10)\n"
          ]
        }
      ],
      "source": [
        "pip install requests"
      ]
    },
    {
      "cell_type": "code",
      "source": [
        "pip install bs4"
      ],
      "metadata": {
        "colab": {
          "base_uri": "https://localhost:8080/"
        },
        "id": "mUWmmPLn_c-U",
        "outputId": "f307b85f-bf39-4a12-8106-8b7fa59849dd"
      },
      "execution_count": null,
      "outputs": [
        {
          "output_type": "stream",
          "name": "stdout",
          "text": [
            "Looking in indexes: https://pypi.org/simple, https://us-python.pkg.dev/colab-wheels/public/simple/\n",
            "Requirement already satisfied: bs4 in /usr/local/lib/python3.7/dist-packages (0.0.1)\n",
            "Requirement already satisfied: beautifulsoup4 in /usr/local/lib/python3.7/dist-packages (from bs4) (4.6.3)\n"
          ]
        }
      ]
    },
    {
      "cell_type": "code",
      "source": [
        "pip install urllib3"
      ],
      "metadata": {
        "colab": {
          "base_uri": "https://localhost:8080/"
        },
        "id": "y2E7bDVPA8Ly",
        "outputId": "fe5684f1-1df7-4d4a-d5f9-55956f685fd3"
      },
      "execution_count": null,
      "outputs": [
        {
          "output_type": "stream",
          "name": "stdout",
          "text": [
            "Looking in indexes: https://pypi.org/simple, https://us-python.pkg.dev/colab-wheels/public/simple/\n",
            "Requirement already satisfied: urllib3 in /usr/local/lib/python3.7/dist-packages (1.24.3)\n"
          ]
        }
      ]
    },
    {
      "cell_type": "code",
      "source": [
        "pip install datetime"
      ],
      "metadata": {
        "colab": {
          "base_uri": "https://localhost:8080/"
        },
        "id": "nHuh8uxYxVSg",
        "outputId": "c96916a3-f09f-48fc-992f-8e1354dc39d1"
      },
      "execution_count": null,
      "outputs": [
        {
          "output_type": "stream",
          "name": "stdout",
          "text": [
            "Looking in indexes: https://pypi.org/simple, https://us-python.pkg.dev/colab-wheels/public/simple/\n",
            "Collecting datetime\n",
            "  Downloading DateTime-4.5-py2.py3-none-any.whl (52 kB)\n",
            "\u001b[K     |████████████████████████████████| 52 kB 745 kB/s \n",
            "\u001b[?25hCollecting zope.interface\n",
            "  Downloading zope.interface-5.4.0-cp37-cp37m-manylinux2010_x86_64.whl (251 kB)\n",
            "\u001b[K     |████████████████████████████████| 251 kB 14.5 MB/s \n",
            "\u001b[?25hRequirement already satisfied: pytz in /usr/local/lib/python3.7/dist-packages (from datetime) (2022.2.1)\n",
            "Requirement already satisfied: setuptools in /usr/local/lib/python3.7/dist-packages (from zope.interface->datetime) (57.4.0)\n",
            "Installing collected packages: zope.interface, datetime\n",
            "Successfully installed datetime-4.5 zope.interface-5.4.0\n"
          ]
        }
      ]
    },
    {
      "cell_type": "code",
      "source": [
        "#Train arrival history\n",
        "\n",
        "import urllib.request as ul\n",
        "from bs4 import BeautifulSoup as soup\n",
        "import datetime\n",
        "\n",
        "stationDeparture = 'London+St+Pancras+International+(STP)'\n",
        "stationArrival = 'Hendon+(HEN)'\n",
        "date = '31/08/2022' #DDMMYYYY\n",
        "\n",
        "url = 'https://www.recenttraintimes.co.uk/Home/Search?Op=Srch&Fr=' + stationDeparture + '&To=' + stationArrival +'&TimTyp=D&TimDay=A&Days=Al&TimPer=Cu&dtFr=' + date + '&dtTo=' + date + '&ShwTim=AvAr&MxArCl=5&TOC=All&ArrSta=5&MetAvg=Mea&MetSpr=RT&MxScDu=&MxSvAg=&MnScCt='\n",
        "req = ul.Request(url, headers={'User-Agent': 'Mozilla/5.0'})\n",
        "client = ul.urlopen(req)\n",
        "htmldata = client.read()\n",
        "client.close()\n",
        "\n",
        "pagesoup = soup(htmldata, \"html.parser\")\n",
        "itemlocator = pagesoup.findAll('table')\n",
        "\n",
        "timetable = itemlocator[1]\n",
        "trainlocator = timetable.findAll('tr')\n",
        "\n",
        "counter = 0\n",
        "for train in trainlocator:\n",
        "  if counter < 2:\n",
        "    counter = counter + 1\n",
        "  else: \n",
        "    if counter == 2:\n",
        "      counter = 0\n",
        "    trainInfo = train.findAll('td')\n",
        "    operator = trainInfo[0].text\n",
        "    scheduledDeparture = trainInfo[1].text\n",
        "    scheduledArrival = trainInfo[2].text\n",
        "    duration = trainInfo[3].text\n",
        "    realArrival = trainInfo[5].text.split()[0]\n",
        "\n",
        "    try:\n",
        "      startTime = datetime.datetime.strptime(scheduledArrival.split(':')[0] + \":\" + scheduledArrival.split(':')[1] + \":00\", \"%H:%M:%S\")\n",
        "    except:\n",
        "       startTime = datetime.datetime.strptime(scheduledArrival.replace('*','').split(':')[0] + \":\" + scheduledArrival.replace('*','').split(':')[1] + \":00\", \"%H:%M:%S\")\n",
        "    endTime = datetime.datetime.strptime(realArrival.split(':')[0] + \":\" + realArrival.split(':')[1] + \":00\", \"%H:%M:%S\")\n",
        "    diffTime = endTime - startTime\n",
        "    min = int(diffTime.total_seconds() / 60)\n",
        "    if min == 0:\n",
        "      late = \" (0 mins late)\"\n",
        "    if min < 0:\n",
        "      midTime = datetime.datetime.strptime(\"00:00:00\",\"%H:%M:%S\")\n",
        "      timeChange = datetime.timedelta(minutes=1440)\n",
        "      diffTime = (endTime - midTime) + (midTime - startTime + timeChange)\n",
        "      min = int(diffTime.total_seconds() / 60)\n",
        "      late = \" (\" + str(min) + \" mins late)\"\n",
        "    else:\n",
        "      late = \" (\" + str(min) + \" mins late)\"\n",
        "\n",
        "    info = operator + ' from ' + stationDeparture.replace('+', ' ') + ' to ' + stationArrival.replace('+', ' ') + ' ' + scheduledDeparture + ' -> ' + scheduledArrival + ' ' + duration + ' Arrived at ' + realArrival + late\n",
        "    print(info)"
      ],
      "metadata": {
        "id": "ruKlkhizA-Vh",
        "outputId": "7bb78c4a-de05-4a21-addc-23c591e2af73",
        "colab": {
          "base_uri": "https://localhost:8080/"
        }
      },
      "execution_count": null,
      "outputs": [
        {
          "output_type": "stream",
          "name": "stdout",
          "text": [
            "TL from London St Pancras International (STP) to Hendon (HEN) 00:18 -> 00:34 16m  Arrived at 00:36 (2 mins late)\n",
            "TL from London St Pancras International (STP) to Hendon (HEN) 02:48 -> 03:05 17m  Arrived at 03:20 (15 mins late)\n",
            "TL from London St Pancras International (STP) to Hendon (HEN) 05:28 -> 05:43 15m  Arrived at 05:43 (0 mins late)\n",
            "TL from London St Pancras International (STP) to Hendon (HEN) 06:43 -> 06:58 15m  Arrived at 06:58 (0 mins late)\n",
            "TL from London St Pancras International (STP) to Hendon (HEN) 07:28 -> 07:44 16m  Arrived at 07:59 (15 mins late)\n",
            "TL from London St Pancras International (STP) to Hendon (HEN) 08:13 -> 08:28 15m  Arrived at 08:28 (0 mins late)\n",
            "TL from London St Pancras International (STP) to Hendon (HEN) 09:18 -> 09:35 17m  Arrived at 09:35 (0 mins late)\n",
            "TL from London St Pancras International (STP) to Hendon (HEN) 09:48 -> 10:05 17m  Arrived at 10:05 (0 mins late)\n",
            "TL from London St Pancras International (STP) to Hendon (HEN) 10:33 -> 10:50 17m  Arrived at 10:50 (0 mins late)\n",
            "TL from London St Pancras International (STP) to Hendon (HEN) 11:18 -> 11:35 17m  Arrived at 11:35 (0 mins late)\n",
            "TL from London St Pancras International (STP) to Hendon (HEN) 12:03 -> 12:20 17m  Arrived at 12:20 (0 mins late)\n",
            "TL from London St Pancras International (STP) to Hendon (HEN) 12:48 -> 13:05 17m  Arrived at 13:06 (1 mins late)\n",
            "TL from London St Pancras International (STP) to Hendon (HEN) 13:33 -> 13:50 17m  Arrived at 13:53 (3 mins late)\n",
            "TL from London St Pancras International (STP) to Hendon (HEN) 14:18 -> 14:35 17m  Arrived at 14:35 (0 mins late)\n",
            "TL from London St Pancras International (STP) to Hendon (HEN) 15:03 -> 15:20 17m  Arrived at 15:20 (0 mins late)\n",
            "TL from London St Pancras International (STP) to Hendon (HEN) 15:48 -> 16:05 17m  Arrived at 16:05 (0 mins late)\n",
            "TL from London St Pancras International (STP) to Hendon (HEN) 16:28 -> 16:44 16m  Arrived at 16:44 (0 mins late)\n",
            "TL from London St Pancras International (STP) to Hendon (HEN) 17:13 -> 17:29 16m  Arrived at 17:45 (16 mins late)\n",
            "TL from London St Pancras International (STP) to Hendon (HEN) 18:03 -> 18:19 16m  Arrived at 18:20 (1 mins late)\n",
            "TL from London St Pancras International (STP) to Hendon (HEN) 18:43 -> 18:59 16m  Arrived at 18:59 (0 mins late)\n",
            "TL from London St Pancras International (STP) to Hendon (HEN) 19:33 -> 19:50 17m  Arrived at 19:50 (0 mins late)\n",
            "TL from London St Pancras International (STP) to Hendon (HEN) 20:18 -> 20:35 17m  Arrived at 20:50 (15 mins late)\n",
            "TL from London St Pancras International (STP) to Hendon (HEN) 21:03 -> 21:20 17m  Arrived at 21:35 (15 mins late)\n",
            "TL from London St Pancras International (STP) to Hendon (HEN) 21:48 -> 22:05 17m  Arrived at 22:05 (0 mins late)\n",
            "TL from London St Pancras International (STP) to Hendon (HEN) 22:53 -> 23:11 18m  Arrived at 23:11 (0 mins late)\n",
            "TL from London St Pancras International (STP) to Hendon (HEN) 23:38 -> 23:54 16m  Arrived at 00:09 (15 mins late)\n"
          ]
        }
      ]
    },
    {
      "cell_type": "code",
      "source": [
        "#Station code\n",
        "import urllib.request as ul\n",
        "from bs4 import BeautifulSoup as soup\n",
        "\n",
        "stationName = \"london liv\"\n",
        "firstCharacter = stationName[0].upper()\n",
        "code = \"\"\n",
        "\n",
        "url = 'https://en.wikipedia.org/wiki/UK_railway_stations_%E2%80%93_' + firstCharacter\n",
        "req = ul.Request(url, headers={'User-Agent': 'Mozilla/5.0'})\n",
        "client = ul.urlopen(req)\n",
        "htmldata = client.read()\n",
        "client.close()\n",
        "\n",
        "pagesoup = soup(htmldata, \"html.parser\")\n",
        "itemlocator = pagesoup.findAll('table')\n",
        "stationLocator = itemlocator[1]\n",
        "\n",
        "stationList = stationLocator.findAll('tr')\n",
        "counter = 0\n",
        "for i in stationList:\n",
        "  if counter == 0:\n",
        "    counter = counter + 1\n",
        "  else:\n",
        "    info = i.findAll('a')\n",
        "    name = info[0].text\n",
        "    if name.lower().startswith(stationName.lower()):\n",
        "       print(info[0].text)\n",
        "       code = info[2].text\n",
        "       break\n",
        "\n",
        "print(code)"
      ],
      "metadata": {
        "colab": {
          "base_uri": "https://localhost:8080/"
        },
        "id": "rIhR3yaqEDC1",
        "outputId": "fc5a2692-8919-44b8-ec70-10518cc2a741"
      },
      "execution_count": null,
      "outputs": [
        {
          "output_type": "stream",
          "name": "stdout",
          "text": [
            "London Liverpool Street\n",
            "LST\n"
          ]
        }
      ]
    },
    {
      "cell_type": "code",
      "source": [
        "#Real time arrival XXX\n",
        "\n",
        "import urllib.request as ul\n",
        "from bs4 import BeautifulSoup as soup\n",
        "\n",
        "stationCode = \"RDG\"\n",
        "url = 'https://ojp.nationalrail.co.uk/service/ldbboard/dep/' + stationCode.upper()\n",
        "req = ul.Request(url, headers={'User-Agent': 'Mozilla/5.0'})\n",
        "client = ul.urlopen(req)\n",
        "htmldata = client.read()\n",
        "client.close()\n",
        "\n",
        "pagesoup = soup(htmldata, \"html.parser\")\n",
        "itemlocator = pagesoup.findAll('table')\n",
        "departureBoard = itemlocator[0]\n",
        "\n",
        "serviceLocator = departureBoard.tbody.findAll('tr')\n",
        "for i in serviceLocator:\n",
        "  infoLocator = i.findAll('td')\n",
        "  time = infoLocator[0].text\n",
        "  destination = infoLocator[1].text.replace(\"\\n\",'').lstrip()\n",
        "  destination = \" \".join(destination.split())\n",
        "  status = infoLocator[2].text\n",
        "  status = \" \".join(status.split())\n",
        "  platform = infoLocator[3].text\n",
        "  if platform == \"\":\n",
        "    print(time + ' to ' + destination + ' ' + status)\n",
        "  else:\n",
        "    print(time + ' to ' + destination + ' ' + status + ': Platform ' + platform)"
      ],
      "metadata": {
        "colab": {
          "base_uri": "https://localhost:8080/"
        },
        "id": "b3h3z0SbHPsm",
        "outputId": "8a46d492-5b55-4752-a64c-f043fd42278e"
      },
      "execution_count": null,
      "outputs": [
        {
          "output_type": "stream",
          "name": "stdout",
          "text": [
            "17:27 to Bristol Temple Meads 17:52 25 mins late: Platform 8\n",
            "17:29 to Penzance 17:55 26 mins late: Platform 7\n",
            "17:41 to London Paddington 17:47 6 mins late: Platform 10\n",
            "17:41 to Newbury \n",
            "17:41 to Newbury Delayed: Platform 8\n",
            "17:43 to London Paddington 17:45 2 mins late: Platform 11A\n",
            "17:43 to Swansea Delayed: Platform 9\n",
            "17:48 to Ealing Broadway On time: Platform 14\n",
            "17:50 to Gatwick Airport via Guildford On time: Platform 5\n",
            "17:50 to London Paddington 17:51 1 mins late: Platform 10\n",
            "17:52 to Bournemouth On time: Platform 7\n",
            "17:57 to Basingstoke On time: Platform 2\n",
            "17:57 to Taunton Delayed: Platform 8\n",
            "17:58 to Didcot Parkway Delayed: Platform 12B\n",
            "17:58 to Ealing Broadway On time: Platform 14\n",
            "17:58 to London Paddington 18:05 7 mins late: Platform 11\n",
            "18:00 to Hereford Delayed: Platform 9\n",
            "18:00 to London Paddington On time: Platform 10A\n",
            "18:03 to Plymouth Delayed: Platform 7\n",
            "18:07 to Newbury On time: Platform 1\n",
            "18:08 to Ealing Broadway On time: Platform 15A\n",
            "18:12 to London Paddington On time: Platform 11\n",
            "18:12 to London Waterloo On time: Platform 4\n",
            "18:13 to Carmarthen Delayed: Platform 9\n",
            "18:15 to Manchester Piccadilly via Coventry & Stoke-on-Trent On time: Platform 12B\n",
            "18:17 to Ealing Broadway On time: Platform 13\n",
            "18:20 to London Paddington On time: Platform 11A\n",
            "18:20 to Redhill On time: Platform 6\n",
            "18:26 to London Paddington On time: Platform 11A\n",
            "18:28 to Bristol Temple Meads On time: Platform 8\n",
            "18:28 to Ealing Broadway Delayed: Platform 14\n",
            "18:28 to London Paddington On time: Platform 10A\n",
            "18:29 to Penzance On time: Platform 7\n",
            "18:32 to Basingstoke On time: Platform 2\n",
            "18:32 to Didcot Parkway On time: Platform 12B\n",
            "18:32 to London Paddington On time: Platform 11A\n",
            "18:37 to Ealing Broadway On time: Platform 15A\n",
            "18:38 to Frome On time: Platform 7\n",
            "18:42 to London Waterloo On time: Platform 5\n",
            "18:43 to London Paddington On time: Platform 10\n",
            "18:43 to Swansea On time: Platform 9\n",
            "18:47 to Ealing Broadway On time: Platform 13\n",
            "18:49 to London Paddington On time: Platform 10\n",
            "18:57 to Didcot Parkway On time: Platform 12B\n",
            "18:58 to Ealing Broadway On time: Platform 14\n",
            "18:58 to London Paddington On time: Platform 11\n",
            "18:59 to Weston-super-Mare On time: Platform 9\n",
            "19:00 to London Paddington On time: Platform 10A\n",
            "19:01 to Gatwick Airport via Guildford On time: Platform 4\n",
            "19:01 to Plymouth On time: Platform 7\n",
            "19:05 to Basingstoke On time: Platform 3\n",
            "19:10 to Newbury On time: Platform 1\n",
            "19:12 to Ealing Broadway On time: Platform 15\n",
            "19:12 to London Waterloo On time: Platform 6\n",
            "19:13 to London Paddington On time: Platform 10\n",
            "19:13 to Swansea On time: Platform 9\n",
            "19:15 to Manchester Piccadilly via Coventry & Stoke-on-Trent On time: Platform 8\n",
            "19:18 to London Paddington On time: Platform 10\n",
            "19:20 to Redhill On time: Platform 4\n",
            "19:24 to London Paddington On time: Platform 12A\n",
            "19:25 to Basingstoke On time: Platform 2\n",
            "19:27 to Bristol Temple Meads On time: Platform 8\n",
            "19:27 to Ealing Broadway On time: Platform 14\n",
            "19:27 to London Paddington On time: Platform 10A\n",
            "19:31 to Penzance On time: Platform 7\n",
            "19:34 to Didcot Parkway On time: Platform 12\n",
            "19:34 to London Paddington On time: Platform 11A\n",
            "19:36 to Bedwyn On time: Platform 8B\n",
            "19:37 to Ealing Broadway On time: Platform 15A\n",
            "19:41 to London Paddington On time: Platform 10\n",
            "19:42 to London Waterloo On time\n",
            "19:42 to Newbury On time\n",
            "19:43 to Swansea On time\n"
          ]
        }
      ]
    }
  ]
}